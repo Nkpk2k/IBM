{
  "nbformat": 4,
  "nbformat_minor": 0,
  "metadata": {
    "colab": {
      "provenance": []
    },
    "kernelspec": {
      "name": "python3",
      "display_name": "Python 3"
    },
    "language_info": {
      "name": "python"
    }
  },
  "cells": [
    {
      "cell_type": "markdown",
      "source": [
        "# Data Science Tools and Ecosystem"
      ],
      "metadata": {
        "id": "wxkZi_76adal"
      }
    },
    {
      "cell_type": "markdown",
      "source": [
        "In this notebook, Data Science Tools and Ecosystem are summarized."
      ],
      "metadata": {
        "id": "wWnZhOOIauSP"
      }
    },
    {
      "cell_type": "markdown",
      "source": [
        "**Objectives:**\n",
        "\n",
        "\n",
        "*   List some popular data Science Languages\n",
        "*   List some libraries used by Data Scientists\n",
        "*   Create a table with names of some data science tools\n",
        "*   Do some basic arithmetic\n",
        "\n"
      ],
      "metadata": {
        "id": "hayHKFAkgnqs"
      }
    },
    {
      "cell_type": "markdown",
      "source": [
        "Some of the popular languages that Data Scientists use are:\n",
        "1. Python\n",
        "2. R\n",
        "3. SQL\n",
        "4. Java\n",
        "5. PHP\n"
      ],
      "metadata": {
        "id": "VCO-N9sehTqt"
      }
    },
    {
      "cell_type": "markdown",
      "source": [
        "Some of the commonly used libraries used by Data Scientists include:\n",
        "1. Tensorflow\n",
        "2. Pandas\n",
        "3. Numpy\n",
        "4. Matlplotlib\n",
        "5. Seaborn"
      ],
      "metadata": {
        "id": "sO8KvaJgbg9Q"
      }
    },
    {
      "cell_type": "markdown",
      "source": [
        "|Data Science Tools|\n",
        "--------------------\n",
        "|RStudio|\n",
        "|Jupyter Notebooks|\n",
        "|Hadoop|"
      ],
      "metadata": {
        "id": "Auz-Rg3LcLcp"
      }
    },
    {
      "cell_type": "markdown",
      "source": [
        "### Below are a few examples of evaluating arithmetic expressions in Python"
      ],
      "metadata": {
        "id": "7HSnbmOaeW8W"
      }
    },
    {
      "cell_type": "code",
      "source": [
        "# This a simple arithmetic expression to mutiply then add integers\n",
        "(3*4)+5"
      ],
      "metadata": {
        "colab": {
          "base_uri": "https://localhost:8080/"
        },
        "id": "2g4titOCegSb",
        "outputId": "cb0d03fc-64a7-4079-ba7f-44d243dee69a"
      },
      "execution_count": 8,
      "outputs": [
        {
          "output_type": "execute_result",
          "data": {
            "text/plain": [
              "17"
            ]
          },
          "metadata": {},
          "execution_count": 8
        }
      ]
    },
    {
      "cell_type": "code",
      "source": [
        " #This will convert 200 minutes to hours by diving by 60\n",
        " 200/60\n"
      ],
      "metadata": {
        "colab": {
          "base_uri": "https://localhost:8080/"
        },
        "id": "pWCJzWeCe1if",
        "outputId": "2e93a6d7-3034-46d5-882f-db6e9cb92694"
      },
      "execution_count": 9,
      "outputs": [
        {
          "output_type": "execute_result",
          "data": {
            "text/plain": [
              "3.3333333333333335"
            ]
          },
          "metadata": {},
          "execution_count": 9
        }
      ]
    },
    {
      "cell_type": "markdown",
      "source": [
        "## Author\n",
        "Neeraj Krishnan P K"
      ],
      "metadata": {
        "id": "AbpMDcxEhdDk"
      }
    }
  ]
}